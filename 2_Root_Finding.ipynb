{
 "cells": [
  {
   "cell_type": "markdown",
   "metadata": {},
   "source": [
    "- Student 1 Name: Ans Imran\n",
    "- Student 2 Name: Richard Awde\n",
    "\n",
    "change the name of this notebook to  `name_1_name_2_notebook_??.ipynb` with *no spaces, no accents and no strange characters!* and where `??` stands for the number of the notebook you are working on."
   ]
  },
  {
   "cell_type": "code",
   "execution_count": 1,
   "metadata": {},
   "outputs": [],
   "source": [
    "import numpy as np"
   ]
  },
  {
   "cell_type": "markdown",
   "metadata": {},
   "source": [
    "# PPM Numerical Methods -- Numerical Methods for Physics"
   ]
  },
  {
   "cell_type": "markdown",
   "metadata": {},
   "source": [
    "# Numerical methods: Root finding"
   ]
  },
  {
   "cell_type": "markdown",
   "metadata": {},
   "source": [
    "# Root finding"
   ]
  },
  {
   "cell_type": "markdown",
   "metadata": {},
   "source": [
    "## Bisection method"
   ]
  },
  {
   "cell_type": "markdown",
   "metadata": {},
   "source": [
    "Use the bisection method to find the root of the function\n",
    "    $$ f(x) = \\frac{1}{2} - e^{-x}$$\n",
    "think carefully how to estimate the error to end the calculation. "
   ]
  },
  {
   "cell_type": "markdown",
   "metadata": {},
   "source": [
    "## We discovered several different bisection methods, we list 2 of them below."
   ]
  },
  {
   "cell_type": "markdown",
   "metadata": {},
   "source": [
    "### The best one (the most simple one)"
   ]
  },
  {
   "cell_type": "code",
   "execution_count": 82,
   "metadata": {
    "scrolled": false
   },
   "outputs": [
    {
     "name": "stdout",
     "output_type": "stream",
     "text": [
      "The value of f(x):  9.52327161574118e-10\n",
      "Total iterations :  21\n"
     ]
    }
   ],
   "source": [
    "def f(x):\n",
    "    z = 0.5 - np.exp(-x)\n",
    "    return z\n",
    "\n",
    "\n",
    "def x_mid(x_left,x_right):\n",
    "    x_mid_inside_function = (x_left + x_right)/2\n",
    "    return x_mid_inside_function\n",
    "\n",
    "\n",
    "def simple_bisection(x_left,x_right):\n",
    "    \n",
    "    counter_bisection = 0\n",
    "\n",
    "    while abs( f(x_mid(x_left,x_right)) ) > 1e-7 :\n",
    "    \n",
    "        if f(x_mid(x_left,x_right)) < 0:\n",
    "            x_left = x_mid(x_left,x_right)\n",
    "        \n",
    "        elif f(x_mid(x_left,x_right)) > 0:\n",
    "            x_right = x_mid(x_left,x_right)\n",
    "\n",
    "        counter_bisection = counter_bisection + 1\n",
    "    return f(x_mid(x_left,x_right)), counter_bisection\n",
    "\n",
    "\n",
    "\n",
    "\n",
    "x_left = -5\n",
    "x_right = +5\n",
    "\n",
    "val_fx_simple_bisection, iterations_simple_bisection = simple_bisection(x_left,x_right)\n",
    "\n",
    "\n",
    "print(f'The value of f(x):  {val_fx_simple_bisection}')\n",
    "print(f'Total iterations :  {iterations_simple_bisection}')"
   ]
  },
  {
   "cell_type": "markdown",
   "metadata": {},
   "source": []
  },
  {
   "cell_type": "markdown",
   "metadata": {
    "scrolled": true
   },
   "source": [
    "### 2nd method (very similar to the one from slides)"
   ]
  },
  {
   "cell_type": "code",
   "execution_count": 4,
   "metadata": {},
   "outputs": [
    {
     "name": "stdout",
     "output_type": "stream",
     "text": [
      "The value of f(x):  8.80463050129121e-06\n",
      "Total iterations :  30969\n"
     ]
    }
   ],
   "source": [
    "def f(x):\n",
    "    y = (1/2) - np.exp(-x)\n",
    "    return y\n",
    "\n",
    "x_left = 0 \n",
    "x_right = 10\n",
    "i = 0\n",
    "x_mid = (x_left + x_right)/2\n",
    "\n",
    "\n",
    "while True:\n",
    "    i = i + 1\n",
    "    \n",
    "    if f(x_left)*f(x_right) < 0:\n",
    "        x_right = x_right/2\n",
    "        \n",
    "        if f(x_mid) <= 0.00001 and f(x_mid) >= 0:\n",
    "            break\n",
    "\n",
    "\n",
    "    elif f(x_left)*f(x_right) > 0:\n",
    "        \n",
    "            x_left = x_right\n",
    "            x_right = (x_right*2 + x_left)/2\n",
    "            \n",
    "            x_mid = (x_left + x_right)/2\n",
    "        \n",
    "            if f(x_mid) <= 0.00001 and f(x_mid) >= 0:\n",
    "                break\n",
    "    else:\n",
    "        break\n",
    "\n",
    "print(f'The value of f(x):  {f(x_mid)}')\n",
    "print(f'Total iterations :  {i}')"
   ]
  },
  {
   "cell_type": "code",
   "execution_count": 84,
   "metadata": {},
   "outputs": [
    {
     "name": "stdout",
     "output_type": "stream",
     "text": [
      "The value of f(x):  9.52327161574118e-10\n",
      "Total iterations :  21\n"
     ]
    }
   ],
   "source": [
    "# Exactly as the slides\n",
    "\n",
    "\n",
    "def bi(x_left, x_right, f):\n",
    "    c       = 0\n",
    "    m       = (x_left + x_right)/2\n",
    "\n",
    "    \n",
    "    while abs(f(m)) > 1e-7:\n",
    "        c = c + 1\n",
    "        \n",
    "        i1 = f(x_left)  * f(m)\n",
    "        i2 = f(m) * f(x_right)\n",
    "    \n",
    "        if i1 < 0:\n",
    "            x_left  = x_left\n",
    "            x_right = m\n",
    "            \n",
    "        elif i2 < 0:\n",
    "            x_left  = m\n",
    "            x_right = x_right\n",
    "    \n",
    "        m = (x_left + x_right)/2\n",
    "    return f(m), m, c\n",
    "        \n",
    "x_left = -5\n",
    "x_right = +5\n",
    "\n",
    "val_bi, mi, iteration = bi(x_left,x_right,f)\n",
    "\n",
    "\n",
    "print(f'The value of f(x):  {val_bi}')\n",
    "print(f'Total iterations :  {iteration}')"
   ]
  },
  {
   "cell_type": "code",
   "execution_count": null,
   "metadata": {},
   "outputs": [],
   "source": []
  },
  {
   "cell_type": "markdown",
   "metadata": {},
   "source": []
  },
  {
   "cell_type": "code",
   "execution_count": null,
   "metadata": {
    "scrolled": true
   },
   "outputs": [],
   "source": []
  },
  {
   "cell_type": "code",
   "execution_count": null,
   "metadata": {},
   "outputs": [],
   "source": []
  },
  {
   "cell_type": "markdown",
   "metadata": {},
   "source": [
    "## False-position method"
   ]
  },
  {
   "cell_type": "markdown",
   "metadata": {},
   "source": [
    "Use the false position method to find the root of the function\n",
    "    $$ f(x) = \\frac{1}{2} - e^{-x}$$\n",
    "and compare to the bisection method"
   ]
  },
  {
   "cell_type": "markdown",
   "metadata": {},
   "source": [
    "### 1st Method"
   ]
  },
  {
   "cell_type": "code",
   "execution_count": 86,
   "metadata": {
    "scrolled": true
   },
   "outputs": [
    {
     "name": "stdout",
     "output_type": "stream",
     "text": [
      "The value of f(x):  9.815722074035804e-08\n",
      "Total iterations :  949\n"
     ]
    }
   ],
   "source": [
    "def false_position_method(x_left,x_right):\n",
    "    \n",
    "    counter_false_position = 0\n",
    "    c = x_left - ( f(x_left) * (x_left - x_right) / ( f(x_left) - f(x_right) ) )\n",
    "\n",
    "    while abs( f(c) ) > 1e-7:\n",
    "        \n",
    "        c = x_left - ( f(x_left) * (x_left - x_right) / ( f(x_left) - f(x_right) ) )\n",
    "        \n",
    "        \n",
    "        i1 = f(x_left)  * f(c)\n",
    "        i2 = f(c) * f(x_right)\n",
    "    \n",
    "        if i1 < 0:                     # interval 1\n",
    "            x_left  = x_left\n",
    "            x_right = c\n",
    "            \n",
    "        elif i2 < 0:\n",
    "            x_left  = c\n",
    "            x_right = x_right            \n",
    "            \n",
    "        counter_false_position = counter_false_position + 1\n",
    "    \n",
    "    return f(c), counter_false_position\n",
    "\n",
    "\n",
    "x_left  = -5\n",
    "x_right = +5\n",
    "\n",
    "val_fx_false_position, iterations_false_position = false_position_method(x_left,x_right)\n",
    "\n",
    "\n",
    "print(f'The value of f(x):  {val_fx_false_position}')\n",
    "print(f'Total iterations :  {iterations_false_position}')"
   ]
  },
  {
   "cell_type": "code",
   "execution_count": null,
   "metadata": {},
   "outputs": [],
   "source": []
  },
  {
   "cell_type": "markdown",
   "metadata": {},
   "source": [
    "### 2nd Method"
   ]
  },
  {
   "cell_type": "code",
   "execution_count": 87,
   "metadata": {
    "scrolled": true
   },
   "outputs": [
    {
     "name": "stdout",
     "output_type": "stream",
     "text": [
      "0.6931473768744044\n",
      "The value of function is: 9.815721990769077e-08\n",
      "The no. of iterations: 948\n"
     ]
    }
   ],
   "source": [
    "def f(x) :\n",
    "    a = 0.5-np.exp(-x)\n",
    "    return a\n",
    "\n",
    "def false_pos(xr,xl): \n",
    "    st=0\n",
    "    xi=0\n",
    "    \n",
    "    while True :\n",
    "        xi = (xr*f(xl)-xl*f(xr))/(f(xl)-f(xr))\n",
    "        \n",
    "        if f(xi) < 1e-7 and f(xi)>0:\n",
    "            break\n",
    "        elif f(xi)<0 :\n",
    "            xl=xi\n",
    "        elif f(xr)>0 :\n",
    "                xr=xi\n",
    "        st = st+1\n",
    "    return xi,st\n",
    "\n",
    "xr = 5\n",
    "xl = -5\n",
    "sol, it = false_pos (xr,xl)\n",
    "\n",
    "print(sol)\n",
    "print(f'The value of function is: {f(sol)}')\n",
    "print(f'The no. of iterations: {it}')\n"
   ]
  },
  {
   "cell_type": "markdown",
   "metadata": {},
   "source": [
    "### Comparison:\n",
    "For our case, since the 2nd false-position method is giving the result in only one iteration, so, it's a lot better than, simple bisection method.\n",
    "But, we think that there is something wrong with the algorithm, although it is giving the correct result but most probably it is not counting the iterations correctly. So, we won't use it for later comparisons."
   ]
  },
  {
   "cell_type": "markdown",
   "metadata": {},
   "source": [
    "## The Newton-Raphson Method"
   ]
  },
  {
   "cell_type": "markdown",
   "metadata": {},
   "source": [
    "Implement the Newton-Rapshon method to solve \n",
    "$$ f(x) = \\frac{1}{2} - e^{-x}$$\n",
    "and compare to the bisection and false position methods\n",
    "\n",
    "- Try different starting guess values, e.g. -1, 1, 5 and 30\n",
    "- Comment"
   ]
  },
  {
   "cell_type": "code",
   "execution_count": 6,
   "metadata": {
    "scrolled": true
   },
   "outputs": [
    {
     "name": "stdout",
     "output_type": "stream",
     "text": [
      "The value of f(x):             -7.199119078649119e-11\n",
      "Total iterations of loop 1:     5\n",
      "Total iterations of loop 2:     3\n",
      "Gross # of iterations:          8\n"
     ]
    }
   ],
   "source": [
    "def delta_xi_f(x):\n",
    "    delta_xi_inside_function = -1 * f(x) * np.exp(x)\n",
    "    return delta_xi_inside_function\n",
    "\n",
    "\n",
    "def newton_raphson(xi):\n",
    "    delta_xi                  =  delta_xi_f(xi)\n",
    "    counter_newton_raphson_1  =  0\n",
    "    counter_newton_raphson_2  =  0\n",
    "\n",
    "\n",
    "    while abs(f(xi)) > 1e-7:\n",
    "    #backtracking\n",
    "        if abs(f( xi + delta_xi )) > abs(f( xi )):\n",
    "            while abs(f( xi + delta_xi )) > abs(f( xi )):\n",
    "                delta_xi = -1 * 0.1*abs(delta_xi)                                     #-1 lgaya hay\n",
    "                counter_newton_raphson_2 = counter_newton_raphson_2 + 1\n",
    "    #end of backtracking    \n",
    "        \n",
    "        xi                       =  xi + delta_xi\n",
    "        delta_xi                 =  delta_xi_f(xi)\n",
    "        counter_newton_raphson_1 = counter_newton_raphson_1 + 1\n",
    "        \n",
    "    return f(xi), counter_newton_raphson_1, counter_newton_raphson_2, counter_newton_raphson_1 + counter_newton_raphson_2\n",
    "\n",
    "\n",
    "q = 5\n",
    "\n",
    "an, bn, cn, dn = newton_raphson(q)\n",
    "\n",
    "\n",
    "print(f'The value of f(x):             {an}')\n",
    "print(f'Total iterations of loop 1:     {bn}')\n",
    "print(f'Total iterations of loop 2:     {cn}')\n",
    "print(f'Gross # of iterations:          {dn}')"
   ]
  },
  {
   "cell_type": "code",
   "execution_count": null,
   "metadata": {},
   "outputs": [],
   "source": []
  },
  {
   "cell_type": "markdown",
   "metadata": {},
   "source": [
    "## The Secant Method"
   ]
  },
  {
   "cell_type": "code",
   "execution_count": 46,
   "metadata": {},
   "outputs": [],
   "source": [
    "# def delta_selector(delta,counter):\n",
    "#     \"\"\"Space reserved for function documentation\"\"\"\n",
    "#     if delta < 0:\n",
    "#         delta = -1*0.1*delta\n",
    "#         switch = 0\n",
    "#         counter = counter + 1\n",
    "#     # if we won't put use the '' -1* ''  here, then if the initial value of delta is negative, then by multiplying delta by ONLY\n",
    "#     # 0.1, we are not decreasing the value of delta, we are infact increasing it's value i.e. making it's value less negative\n",
    "#     # i.e. moving it closer to zero.\n",
    "    \n",
    "#     elif delta >= 0:\n",
    "#         delta = 0.1*delta\n",
    "#         switch = 1\n",
    "#         counter = counter + 1\n",
    "#     # note instead of writing 'if' & 'elif', we can simply write 1 line: $ 0.1*abs(delaxis) $, it'll achieve the same result.\n",
    "#     # and instead of writing 8 lines, we'll be writing only one line. But if and elif make the code more intuitive.\n",
    "\n",
    "#     return delta, counter, switch\n",
    "\n",
    "\n",
    "# def f_prime_secant(x_i, x_i_minus_1):\n",
    "#     \"\"\"Space reserved for function documentation\"\"\"\n",
    "#     f_prime_secant_inside_function = ( f(x_i_minus_1) - f(x_i) ) / (x_i_minus_1 - x_i)\n",
    "#     return f_prime_secant_inside_function\n",
    "\n",
    "\n",
    "# def delta_xi_secant_f(x_i, x_i_minus_1):\n",
    "#     \"\"\"Space reserved for function documentation\"\"\"\n",
    "#     delta_xi_inside_function = -1*f(x_i) / f_prime_secant(x_i,x_i_minus_1)\n",
    "#     return delta_xi_inside_function\n",
    "\n",
    "\n",
    "# def secant_method(x_i_minus_1, x_i):\n",
    "#     \"\"\"Space reserved for function documentation\"\"\"\n",
    "    \n",
    "#     delta_xi_secant   =  delta_xi_secant_f(x_i, x_i_minus_1)\n",
    "#     x_i_plus_1        =  x_i + delta_xi_secant_f(x_i, x_i_minus_1)\n",
    "#     counter_secant_1  =  0\n",
    "#     counter_secant_2  =  0\n",
    "#     switch            =  2\n",
    "#     while abs( f(x_i_plus_1) ) > 1e-7:\n",
    "#     #BackTracking\n",
    "#         if abs(f(x_i_plus_1 + delta_xi_secant) )   >   abs( f(x_i_plus_1) ):\n",
    "#             while abs( f(x_i_plus_1 + delta_xi_secant) )   >   abs( f(x_i_plus_1) ):\n",
    "                \n",
    "#                 delta_xi_secant,counter_secant_2, switch = delta_selector(delta_xi_secant,counter_secant_2)\n",
    "                \n",
    "#             if switch == 0:\n",
    "#                 delta_xi_secant = -1*delta_xi_secant\n",
    "#             elif switch == 1:\n",
    "#                 delta_xi_secant = delta_xi_secant\n",
    "#     #end of back tracking                    \n",
    "        \n",
    "#         x_i               =  x_i_plus_1\n",
    "#         x_i_plus_1        =  x_i_plus_1 + delta_xi_secant \n",
    "#         counter_secant_1  =  counter_secant_1 + 1\n",
    "#         delta_xi_secant   =  delta_xi_secant_f(x_i_plus_1,x_i)\n",
    "        \n",
    "#     return f(x_i_plus_1), counter_secant_1, counter_secant_2, counter_secant_1 + counter_secant_2\n",
    "\n",
    "\n",
    "\n",
    "\n",
    "\n",
    "\n",
    "# x_i_minus_1 = 2\n",
    "# x_i         = 1\n",
    "# a, b, c, d  = secant_method(x_i_minus_1, x_i)\n",
    "\n",
    "\n",
    "# print(f'The value of f(x):             {a}')\n",
    "# print(f'Total iterations of loop 1:     {b}')\n",
    "# print(f'Total iterations of loop 2:     {c}')\n",
    "# print(f'Gross # of iterations:          {d}')"
   ]
  },
  {
   "cell_type": "code",
   "execution_count": 22,
   "metadata": {},
   "outputs": [
    {
     "name": "stdout",
     "output_type": "stream",
     "text": [
      "The value of f(x):             -1.8264073253781987e-08\n",
      "Total iterations of loop 1:     5\n",
      "Total iterations of loop 2:     0\n",
      "Gross # of iterations:          5\n"
     ]
    }
   ],
   "source": [
    "def delta_xi_secant_f(x_i, x_i_minus_1):\n",
    "    \"\"\"Space reserved for function documentation\"\"\"\n",
    "    delta_xi_inside_function = -1*f(x_i) * (x_i_minus_1 - x_i) / ( f(x_i_minus_1) - f(x_i) )\n",
    "    return delta_xi_inside_function\n",
    "\n",
    "\n",
    "def secant_method(x_i_minus_1, x_i):\n",
    "    \"\"\"Space reserved for function documentation\"\"\"\n",
    "    \n",
    "    delta_xi_secant   =  delta_xi_secant_f(x_i, x_i_minus_1)\n",
    "    x_i_plus_1        =  x_i + delta_xi_secant_f(x_i, x_i_minus_1)\n",
    "    counter_secant_1  =  0\n",
    "    counter_secant_2  =  0\n",
    "    switch            =  2\n",
    "    while abs( f(x_i_plus_1) ) > 1e-7:\n",
    "    \n",
    "    #BackTracking\n",
    "        if abs(f(x_i_plus_1 + delta_xi_secant) )   >   abs( f(x_i_plus_1) ):\n",
    "            while abs( f(x_i_plus_1 + delta_xi_secant) )   >   abs( f(x_i_plus_1) ):\n",
    "                delta_xi_secant = 0.1*abs(delta_xi_secant)                                 # -1 nahi lgaya\n",
    "    #end of back tracking                    \n",
    "        \n",
    "        x_i               =  x_i_plus_1\n",
    "        x_i_plus_1        =  x_i_plus_1 + delta_xi_secant \n",
    "        counter_secant_1  =  counter_secant_1 + 1\n",
    "        delta_xi_secant   =  delta_xi_secant_f(x_i_plus_1,x_i)\n",
    "        \n",
    "    return f(x_i_plus_1), counter_secant_1, counter_secant_2, counter_secant_1 + counter_secant_2\n",
    "\n",
    "\n",
    "\n",
    "\n",
    "\n",
    "\n",
    "x_i_minus_1 = 2\n",
    "x_i         = 1\n",
    "a, b, c, d  = secant_method(x_i_minus_1, x_i)\n",
    "\n",
    "\n",
    "print(f'The value of f(x):             {a}')\n",
    "print(f'Total iterations of loop 1:     {b}')\n",
    "print(f'Total iterations of loop 2:     {c}')\n",
    "print(f'Gross # of iterations:          {d}')"
   ]
  },
  {
   "cell_type": "code",
   "execution_count": null,
   "metadata": {},
   "outputs": [],
   "source": []
  },
  {
   "cell_type": "code",
   "execution_count": null,
   "metadata": {},
   "outputs": [],
   "source": []
  },
  {
   "cell_type": "markdown",
   "metadata": {},
   "source": [
    "Implement the Newton-Rapshon method to solve \n",
    "$$ f(x) = \\frac{1}{2} - e^{-x}$$\n",
    "and compare to the bisection and false position methods\n",
    "\n",
    "- Try different starting guess values, e.g. -1, 1, 5 and 30\n",
    "- Comment"
   ]
  },
  {
   "cell_type": "code",
   "execution_count": 90,
   "metadata": {
    "scrolled": false
   },
   "outputs": [
    {
     "name": "stdout",
     "output_type": "stream",
     "text": [
      "The CASE -1\n",
      "\n",
      "Newton-Ralphson Method\n",
      "\n",
      "The value of f(x):             -2.0095036745715333e-14\n",
      "Total iterations of loop 1:     6\n",
      "Total iterations of loop 2:     0\n",
      "Gross # of iterations:          6\n",
      "\n",
      "\n",
      "\n",
      "False_Position Method\n",
      "\n",
      "The value of f(x):             8.957927033481639e-08\n",
      "Total iterations :              30\n",
      "\n",
      "\n",
      "\n",
      "Simple Bisection\n",
      "\n",
      "The value of f(x):             9.52327161574118e-10\n",
      "Total iterations :              0.6931471824645996\n",
      "\n",
      "\n",
      "\n",
      "\n",
      "\n",
      "The CASE 1\n",
      "\n",
      "Newton-Ralphson Method\n",
      "\n",
      "The value of f(x):             -2.0339285811132868e-13\n",
      "Total iterations of loop 1:     4\n",
      "Total iterations of loop 2:     0\n",
      "Gross # of iterations:          4\n",
      "\n",
      "\n",
      "\n",
      "False_Position Method\n",
      "\n",
      "The value of f(x):             3.4718139196865394e-08\n",
      "Total iterations :              13\n",
      "\n",
      "\n",
      "\n",
      "Simple Bisection\n",
      "\n",
      "The value of f(x):             9.52327161574118e-10\n",
      "Total iterations :              0.6931471824645996\n",
      "\n",
      "\n",
      "\n",
      "\n",
      "\n",
      "The CASE 5\n",
      "\n",
      "Newton-Ralphson Method\n",
      "\n",
      "The value of f(x):             -7.199119078649119e-11\n",
      "Total iterations of loop 1:     5\n",
      "Total iterations of loop 2:     3\n",
      "Gross # of iterations:          8\n",
      "\n",
      "\n",
      "\n",
      "False_Position Method\n",
      "\n",
      "The value of f(x):             8.167261983382801e-08\n",
      "Total iterations :              15\n",
      "\n",
      "\n",
      "\n",
      "Simple Bisection\n",
      "\n",
      "The value of f(x):             9.52327161574118e-10\n",
      "Total iterations :              0.6931471824645996\n",
      "\n",
      "\n",
      "\n",
      "\n",
      "\n",
      "The CASE 30\n",
      "\n",
      "Newton-Ralphson Method\n",
      "\n",
      "The value of f(x):             -4.153677402030098e-12\n",
      "Total iterations of loop 1:     11\n",
      "Total iterations of loop 2:     33\n",
      "Gross # of iterations:          44\n",
      "\n",
      "\n",
      "\n",
      "False_Position Method\n",
      "\n",
      "The value of f(x):             5.002287090105639e-08\n",
      "Total iterations :              18\n",
      "\n",
      "\n",
      "\n",
      "Simple Bisection\n",
      "\n",
      "The value of f(x):             9.52327161574118e-10\n",
      "Total iterations :              0.6931471824645996\n",
      "\n",
      "\n",
      "\n",
      "\n",
      "\n"
     ]
    },
    {
     "name": "stderr",
     "output_type": "stream",
     "text": [
      "C:\\Users\\Ans Imran\\AppData\\Local\\Temp\\ipykernel_14568\\1599454519.py:2: RuntimeWarning: overflow encountered in exp\n",
      "  a = 0.5-np.exp(-x)\n"
     ]
    }
   ],
   "source": [
    "list = [-1,1,5,30]\n",
    "\n",
    "for i in list:\n",
    "    print(f'The CASE {i}\\n')\n",
    "    \n",
    "    \n",
    "    an, bn, cn, dn = newton_raphson(i)\n",
    "\n",
    "    print('Newton-Ralphson Method\\n')\n",
    "    print(f'The value of f(x):             {an}')\n",
    "    print(f'Total iterations of loop 1:     {bn}')\n",
    "    print(f'Total iterations of loop 2:     {cn}')\n",
    "    print(f'Gross # of iterations:          {dn}')\n",
    "    print('\\n\\n')\n",
    "\n",
    "    \n",
    "\n",
    "    if i < 0:\n",
    "        b = i\n",
    "        a = 1\n",
    "    else:\n",
    "        a = i\n",
    "        b = 0\n",
    "    x_left = b; x_right = a\n",
    "    af, bf = false_position_method(x_left,x_right)\n",
    "\n",
    "    print('False_Position Method\\n')\n",
    "    print(f'The value of f(x):             {af}')\n",
    "    print(f'Total iterations :              {bf}')\n",
    "    print('\\n\\n')\n",
    "\n",
    "\n",
    "\n",
    "    ab, bb, it = bi(x_left,x_right, f)\n",
    "\n",
    "    print('Simple Bisection\\n')\n",
    "    print(f'The value of f(x):             {ab}')\n",
    "    print(f'Total iterations :              {bb}')\n",
    " \n",
    "    print('\\n\\n\\n\\n')"
   ]
  },
  {
   "cell_type": "markdown",
   "metadata": {},
   "source": [
    "## Comparison\n",
    "\n",
    "From the results it is clear that for this particular function, the Newton_Ralphson method works best in all of the specified\n",
    "intervals, except for the case [1,30]\n",
    "\n",
    "### Simple Bisection Method\n",
    "##### Drawbacks:\n",
    ". We cannot simply provide a single point, we have to provide an interval, if the root is not inside the interval, the method does not work.\n",
    "\n",
    ". Except for long intervals, it consumes more computational power as compared to Newton-Ralphson method\n",
    "\n",
    ". Does not takes into account the properties of the function like derivative etc, which could reduce the number of iterations.\n",
    "##### Advantages:\n",
    ". Less prone to prone to producing infinities when the function contains exponential\n",
    "\n",
    "\n",
    "\n",
    "### False Position Method\n",
    "##### Drawbacks:\n",
    ". We cannot simply provide a single point, we have to provide an interval, if the root is not inside the interval, the method does not work.\n",
    "\n",
    ". Except for long intervals, it consumes more computational power as compared to Newton-Ralphson method\n",
    "##### Advantages:\n",
    ". Faster than Simple Bisection, beacuse it takes into account the derivate of the function\n",
    ". Less prone to prone to producing infinities when the function contains exponential (because it contains, numerical derivative)\n",
    "\n",
    "\n",
    "\n",
    "### Newton-Ralphson Method\n",
    "##### Drawbacks:\n",
    ". Highly prone to producing infinities when the function contains exponential.\n",
    "\n",
    ". Except Consumes more computational power for long intervals as compared to Bisection methods.\n",
    "\n",
    ". Won't work for a function, whose analytical derivative is not available.\n",
    "\n",
    "##### Advantages:\n",
    ". We CAN simply provide a single point, we do not have to provide an interval,] like in Bisection Methods.\n",
    "\n",
    ". Does takes into account the properties of the function like derivative etc, which reduces the number of iterations.\n"
   ]
  },
  {
   "cell_type": "markdown",
   "metadata": {},
   "source": [
    "## The Modified Secant Method"
   ]
  },
  {
   "cell_type": "markdown",
   "metadata": {},
   "source": [
    "Implement the modified secant method and compare it to the other methods."
   ]
  },
  {
   "cell_type": "code",
   "execution_count": null,
   "metadata": {},
   "outputs": [],
   "source": []
  },
  {
   "cell_type": "code",
   "execution_count": 91,
   "metadata": {},
   "outputs": [
    {
     "name": "stdout",
     "output_type": "stream",
     "text": [
      "Modified Secant Method\n",
      "\n",
      "The value of f(x):              6.713180517037287e-08\n",
      "Total iterations of loop 1:     15\n",
      "Total iterations of loop 2:     17\n",
      "Gross # of iterations:          32\n",
      "\n",
      "\n",
      "\n",
      "Secant Method\n",
      "\n",
      "The value of f(x):             -2.7059920859606734e-08\n",
      "Total iterations of loop 1:     7\n",
      "Total iterations of loop 2:     0\n",
      "Gross # of iterations:          7\n",
      "\n",
      "\n",
      "\n",
      "Newton-Ralphson Method\n",
      "\n",
      "The value of f(x):             -1.1858947157605826e-10\n",
      "Total iterations of loop 1:     5\n",
      "Total iterations of loop 2:     3\n",
      "Gross # of iterations:          8\n",
      "\n",
      "\n",
      "\n",
      "False_Position Method\n",
      "\n",
      "The value of f(x):             8.167261983382801e-08\n",
      "Total iterations :              15\n",
      "\n",
      "\n",
      "\n"
     ]
    },
    {
     "ename": "TypeError",
     "evalue": "'float' object is not callable",
     "output_type": "error",
     "traceback": [
      "\u001b[1;31m---------------------------------------------------------------------------\u001b[0m",
      "\u001b[1;31mTypeError\u001b[0m                                 Traceback (most recent call last)",
      "Input \u001b[1;32mIn [91]\u001b[0m, in \u001b[0;36m<cell line: 92>\u001b[1;34m()\u001b[0m\n\u001b[0;32m     87\u001b[0m \u001b[38;5;28mprint\u001b[39m(\u001b[38;5;124mf\u001b[39m\u001b[38;5;124m'\u001b[39m\u001b[38;5;124mTotal iterations :              \u001b[39m\u001b[38;5;132;01m{\u001b[39;00mbf\u001b[38;5;132;01m}\u001b[39;00m\u001b[38;5;124m'\u001b[39m)\n\u001b[0;32m     88\u001b[0m \u001b[38;5;28mprint\u001b[39m(\u001b[38;5;124m'\u001b[39m\u001b[38;5;130;01m\\n\u001b[39;00m\u001b[38;5;130;01m\\n\u001b[39;00m\u001b[38;5;124m'\u001b[39m)\n\u001b[1;32m---> 92\u001b[0m ab, bb, \u001b[38;5;241m=\u001b[39m \u001b[43msimple_bisection\u001b[49m\u001b[43m(\u001b[49m\u001b[43mx_left\u001b[49m\u001b[43m,\u001b[49m\u001b[43mx_right\u001b[49m\u001b[43m)\u001b[49m\n\u001b[0;32m     94\u001b[0m \u001b[38;5;28mprint\u001b[39m(\u001b[38;5;124m'\u001b[39m\u001b[38;5;124mSimple Bisection\u001b[39m\u001b[38;5;130;01m\\n\u001b[39;00m\u001b[38;5;124m'\u001b[39m)\n\u001b[0;32m     95\u001b[0m \u001b[38;5;28mprint\u001b[39m(\u001b[38;5;124mf\u001b[39m\u001b[38;5;124m'\u001b[39m\u001b[38;5;124mThe value of f(x):             \u001b[39m\u001b[38;5;132;01m{\u001b[39;00mab\u001b[38;5;132;01m}\u001b[39;00m\u001b[38;5;124m'\u001b[39m)\n",
      "Input \u001b[1;32mIn [82]\u001b[0m, in \u001b[0;36msimple_bisection\u001b[1;34m(x_left, x_right)\u001b[0m\n\u001b[0;32m     11\u001b[0m \u001b[38;5;28;01mdef\u001b[39;00m \u001b[38;5;21msimple_bisection\u001b[39m(x_left,x_right):\n\u001b[0;32m     13\u001b[0m     counter_bisection \u001b[38;5;241m=\u001b[39m \u001b[38;5;241m0\u001b[39m\n\u001b[1;32m---> 15\u001b[0m     \u001b[38;5;28;01mwhile\u001b[39;00m \u001b[38;5;28mabs\u001b[39m( f(\u001b[43mx_mid\u001b[49m\u001b[43m(\u001b[49m\u001b[43mx_left\u001b[49m\u001b[43m,\u001b[49m\u001b[43mx_right\u001b[49m\u001b[43m)\u001b[49m) ) \u001b[38;5;241m>\u001b[39m \u001b[38;5;241m1e-7\u001b[39m :\n\u001b[0;32m     17\u001b[0m         \u001b[38;5;28;01mif\u001b[39;00m f(x_mid(x_left,x_right)) \u001b[38;5;241m<\u001b[39m \u001b[38;5;241m0\u001b[39m:\n\u001b[0;32m     18\u001b[0m             x_left \u001b[38;5;241m=\u001b[39m x_mid(x_left,x_right)\n",
      "\u001b[1;31mTypeError\u001b[0m: 'float' object is not callable"
     ]
    }
   ],
   "source": [
    "# All of the code is same, exiept some small changes\n",
    "\n",
    "def f_prime_secant_modified(xi):                                     # this function instead of taking two inputs, now, only takes one input\n",
    "    f_prime_secant_modified_inside_function = ( f(1e-2) - f(xi) ) / (1e-2 - xi)\n",
    "    return f_prime_secant_modified_inside_function\n",
    "\n",
    "\n",
    "def delta_xi_secant_modified_f(xi):                                # this function, NOW, also takes only one input\n",
    "    delta_xi_secant_modified_inside_f = -1*f(xi) / f_prime_secant_modified(xi)\n",
    "    return delta_xi_secant_modified_inside_f\n",
    "\n",
    "\n",
    "def modified_secant_method(xi):\n",
    "    \"\"\"Space reserved for function documentation\"\"\"\n",
    "    \n",
    "    delta_xi_secant_modified   =  delta_xi_secant_modified_f(xi)\n",
    "    xi_plus_1                  =  xi + delta_xi_secant_modified_f(xi)\n",
    "    counter_secant_modified_1  =  0\n",
    "    counter_secant_modified_2  =  0\n",
    "    switch_modified            =  2\n",
    "    while abs( f(xi_plus_1) ) > 1e-7:\n",
    "        #BackTracking\n",
    "        if abs(f(xi_plus_1 + delta_xi_secant_modified) ) > abs( f(xi_plus_1) ):\n",
    "            while abs( f(xi_plus_1 + delta_xi_secant_modified) ) > abs( f(xi_plus_1) ):\n",
    "            \n",
    "                delta_xi_secant_modified,counter_secant_modified_2, switch_modified = delta_selector(delta_xi_secant_modified,counter_secant_modified_2)\n",
    "                \n",
    "            if switch_modified   == 0:\n",
    "                delta_xi_secant_modified  =  -1*delta_xi_secant_modified\n",
    "            \n",
    "            elif switch_modified == 1:\n",
    "                delta_xi_secant_modified  =  delta_xi_secant_modified\n",
    "        #end of back tracking\n",
    "\n",
    "    \n",
    "        xi                         =  xi_plus_1\n",
    "        xi_plus_1                  =  xi_plus_1 + delta_xi_secant_modified \n",
    "        counter_secant_modified_1  =  counter_secant_modified_1 + 1\n",
    "        delta_xi_secant_modified   =  delta_xi_secant_modified_f(xi_plus_1)\n",
    "        \n",
    "    return f(xi_plus_1), counter_secant_modified_1, counter_secant_modified_2, counter_secant_modified_1 + counter_secant_modified_2\n",
    "\n",
    "\n",
    "\n",
    "\n",
    "xi  = 4.99\n",
    "am, bm, cm, dm = modified_secant_method(xi)\n",
    "\n",
    "print('Modified Secant Method\\n')\n",
    "print(f'The value of f(x):              {am}')\n",
    "print(f'Total iterations of loop 1:     {bm}')\n",
    "print(f'Total iterations of loop 2:     {cm}')\n",
    "print(f'Gross # of iterations:          {dm}')\n",
    "print('\\n\\n')\n",
    "\n",
    "\n",
    "\n",
    "\n",
    "x_i_minus_1 = 5\n",
    "asx, bs, cs, ds  = secant_method(x_i_minus_1, x_i)\n",
    "\n",
    "print('Secant Method\\n')\n",
    "print(f'The value of f(x):             {asx}')\n",
    "print(f'Total iterations of loop 1:     {bs}')\n",
    "print(f'Total iterations of loop 2:     {cs}')\n",
    "print(f'Gross # of iterations:          {ds}')\n",
    "print('\\n\\n')\n",
    "\n",
    "\n",
    "\n",
    "an, bn, cn, dn = newton_raphson(xi)\n",
    "\n",
    "print('Newton-Ralphson Method\\n')\n",
    "print(f'The value of f(x):             {an}')\n",
    "print(f'Total iterations of loop 1:     {bn}')\n",
    "print(f'Total iterations of loop 2:     {cn}')\n",
    "print(f'Gross # of iterations:          {dn}')\n",
    "print('\\n\\n')\n",
    "\n",
    "\n",
    "\n",
    "x_left = 0; x_right = 5\n",
    "af, bf = false_position_method(x_left,x_right)\n",
    "\n",
    "print('False_Position Method\\n')\n",
    "print(f'The value of f(x):             {af}')\n",
    "print(f'Total iterations :              {bf}')\n",
    "print('\\n\\n')\n",
    "\n",
    "\n",
    "\n",
    "ab, bb, = simple_bisection(x_left,x_right)\n",
    "\n",
    "print('Simple Bisection\\n')\n",
    "print(f'The value of f(x):             {ab}')\n",
    "print(f'Total iterations :              {bb}')\n"
   ]
  },
  {
   "cell_type": "markdown",
   "metadata": {},
   "source": [
    "## Comparison\n",
    "\n",
    "We see that for this particular function and for this particular interval i.e. [0,5], the Newton-Ralphson method works best,\n",
    "it only takes 8 iterations to reach the specified accuracy.\n",
    "\n",
    "For this particular function and for this particular interval i.e. [0,5], the modified secant method is the slowest, but, modified secant method has it's own advantages e.g:\n",
    "\n",
    ". You can find the roots of very complicated functions, whose analytical derivate is either not available or is very difficult to find\n",
    "\n",
    ". You only have to provide one point and it'll automatically find it's way!\n",
    "\n",
    "\n",
    "The main conclusion is that, NO ONE METHOD IS PERFECT, you have to surmise yourself the method which works best for the problem\n",
    "at hand."
   ]
  },
  {
   "cell_type": "code",
   "execution_count": 2,
   "metadata": {},
   "outputs": [
    {
     "ename": "NameError",
     "evalue": "name 'f' is not defined",
     "output_type": "error",
     "traceback": [
      "\u001b[1;31m---------------------------------------------------------------------------\u001b[0m",
      "\u001b[1;31mNameError\u001b[0m                                 Traceback (most recent call last)",
      "Input \u001b[1;32mIn [2]\u001b[0m, in \u001b[0;36m<cell line: 40>\u001b[1;34m()\u001b[0m\n\u001b[0;32m     34\u001b[0m     \u001b[38;5;28;01mreturn\u001b[39;00m f(xi_plus_1), counter_secant_modified_1, counter_secant_modified_2, counter_secant_modified_1 \u001b[38;5;241m+\u001b[39m counter_secant_modified_2\n\u001b[0;32m     39\u001b[0m xi  \u001b[38;5;241m=\u001b[39m \u001b[38;5;241m4.99\u001b[39m\n\u001b[1;32m---> 40\u001b[0m am, bm, cm, dm \u001b[38;5;241m=\u001b[39m \u001b[43mmodified_secant_method\u001b[49m\u001b[43m(\u001b[49m\u001b[43mxi\u001b[49m\u001b[43m)\u001b[49m\n\u001b[0;32m     42\u001b[0m \u001b[38;5;28mprint\u001b[39m(\u001b[38;5;124m'\u001b[39m\u001b[38;5;124mModified Secant Method\u001b[39m\u001b[38;5;130;01m\\n\u001b[39;00m\u001b[38;5;124m'\u001b[39m)\n\u001b[0;32m     43\u001b[0m \u001b[38;5;28mprint\u001b[39m(\u001b[38;5;124mf\u001b[39m\u001b[38;5;124m'\u001b[39m\u001b[38;5;124mThe value of f(x):              \u001b[39m\u001b[38;5;132;01m{\u001b[39;00mam\u001b[38;5;132;01m}\u001b[39;00m\u001b[38;5;124m'\u001b[39m)\n",
      "Input \u001b[1;32mIn [2]\u001b[0m, in \u001b[0;36mmodified_secant_method\u001b[1;34m(xi)\u001b[0m\n\u001b[0;32m     13\u001b[0m \u001b[38;5;28;01mdef\u001b[39;00m \u001b[38;5;21mmodified_secant_method\u001b[39m(xi):\n\u001b[0;32m     14\u001b[0m     \u001b[38;5;124;03m\"\"\"Space reserved for function documentation\"\"\"\u001b[39;00m\n\u001b[1;32m---> 16\u001b[0m     delta_xi_secant_modified   \u001b[38;5;241m=\u001b[39m  \u001b[43mdelta_xi_secant_modified_f\u001b[49m\u001b[43m(\u001b[49m\u001b[43mxi\u001b[49m\u001b[43m)\u001b[49m\n\u001b[0;32m     17\u001b[0m     xi_plus_1                  \u001b[38;5;241m=\u001b[39m  xi \u001b[38;5;241m+\u001b[39m delta_xi_secant_modified_f(xi)\n\u001b[0;32m     18\u001b[0m     counter_secant_modified_1  \u001b[38;5;241m=\u001b[39m  \u001b[38;5;241m0\u001b[39m\n",
      "Input \u001b[1;32mIn [2]\u001b[0m, in \u001b[0;36mdelta_xi_secant_modified_f\u001b[1;34m(xi)\u001b[0m\n\u001b[0;32m      8\u001b[0m \u001b[38;5;28;01mdef\u001b[39;00m \u001b[38;5;21mdelta_xi_secant_modified_f\u001b[39m(xi):                                \u001b[38;5;66;03m# this function, NOW, also takes only one input\u001b[39;00m\n\u001b[1;32m----> 9\u001b[0m     delta_xi_secant_modified_inside_f \u001b[38;5;241m=\u001b[39m \u001b[38;5;241m-\u001b[39m\u001b[38;5;241m1\u001b[39m\u001b[38;5;241m*\u001b[39m\u001b[43mf\u001b[49m(xi) \u001b[38;5;241m/\u001b[39m f_prime_secant_modified(xi)\n\u001b[0;32m     10\u001b[0m     \u001b[38;5;28;01mreturn\u001b[39;00m delta_xi_secant_modified_inside_f\n",
      "\u001b[1;31mNameError\u001b[0m: name 'f' is not defined"
     ]
    }
   ],
   "source": [
    "#changes in backtracking\n",
    "\n",
    "def f_prime_secant_modified(xi):                                     # this function instead of taking two inputs, now, only takes one input\n",
    "    f_prime_secant_modified_inside_function = ( f(1e-2) - f(xi) ) / (1e-2 - xi)\n",
    "    return f_prime_secant_modified_inside_function\n",
    "\n",
    "\n",
    "def delta_xi_secant_modified_f(xi):                                # this function, NOW, also takes only one input\n",
    "    delta_xi_secant_modified_inside_f = -1*f(xi) / f_prime_secant_modified(xi)\n",
    "    return delta_xi_secant_modified_inside_f\n",
    "\n",
    "\n",
    "def modified_secant_method(xi):\n",
    "    \"\"\"Space reserved for function documentation\"\"\"\n",
    "    \n",
    "    delta_xi_secant_modified   =  delta_xi_secant_modified_f(xi)\n",
    "    xi_plus_1                  =  xi + delta_xi_secant_modified_f(xi)\n",
    "    counter_secant_modified_1  =  0\n",
    "    counter_secant_modified_2  =  0\n",
    "    switch_modified            =  2\n",
    "    while abs( f(xi_plus_1) ) > 1e-7:\n",
    "        #BackTracking\n",
    "#        if abs(f(xi_plus_1 + delta_xi_secant_modified) ) > abs( f(xi_plus_1) ):\n",
    "        while abs( f(xi_plus_1 + delta_xi_secant_modified) ) > abs( f(xi_plus_1) ):\n",
    "            delta_xi_secant_modified = -1*0.1*abs(delta_xi_secant_modified)\n",
    "        #end of back tracking\n",
    "\n",
    "    \n",
    "        xi                         =  xi_plus_1\n",
    "        xi_plus_1                  =  xi_plus_1 + delta_xi_secant_modified \n",
    "        counter_secant_modified_1  =  counter_secant_modified_1 + 1\n",
    "        delta_xi_secant_modified   =  delta_xi_secant_modified_f(xi_plus_1)\n",
    "        \n",
    "    return f(xi_plus_1), counter_secant_modified_1, counter_secant_modified_2, counter_secant_modified_1 + counter_secant_modified_2\n",
    "\n",
    "\n",
    "\n",
    "\n",
    "xi  = 4.99\n",
    "am, bm, cm, dm = modified_secant_method(xi)\n",
    "\n",
    "print('Modified Secant Method\\n')\n",
    "print(f'The value of f(x):              {am}')\n",
    "print(f'Total iterations of loop 1:     {bm}')\n",
    "print(f'Total iterations of loop 2:     {cm}')\n",
    "print(f'Gross # of iterations:          {dm}')\n",
    "print('\\n\\n')\n",
    "\n",
    "\n",
    "\n",
    "\n",
    "x_i_minus_1 = 5\n",
    "asx, bs, cs, ds  = secant_method(x_i_minus_1, x_i)\n",
    "\n",
    "print('Secant Method\\n')\n",
    "print(f'The value of f(x):             {asx}')\n",
    "print(f'Total iterations of loop 1:     {bs}')\n",
    "print(f'Total iterations of loop 2:     {cs}')\n",
    "print(f'Gross # of iterations:          {ds}')\n",
    "print('\\n\\n')\n",
    "\n",
    "\n",
    "\n",
    "an, bn, cn, dn = newton_raphson(xi)\n",
    "\n",
    "print('Newton-Ralphson Method\\n')\n",
    "print(f'The value of f(x):             {an}')\n",
    "print(f'Total iterations of loop 1:     {bn}')\n",
    "print(f'Total iterations of loop 2:     {cn}')\n",
    "print(f'Gross # of iterations:          {dn}')\n",
    "print('\\n\\n')\n",
    "\n",
    "\n",
    "\n",
    "x_left = 0; x_right = 5\n",
    "af, bf = false_position_method(x_left,x_right)\n",
    "\n",
    "print('False_Position Method\\n')\n",
    "print(f'The value of f(x):             {af}')\n",
    "print(f'Total iterations :              {bf}')\n",
    "print('\\n\\n')\n",
    "\n",
    "\n",
    "\n",
    "ab, bb, it = bi(x_left,x_right, f)\n",
    "\n",
    "print('Simple Bisection\\n')\n",
    "print(f'The value of f(x):             {ab}')\n",
    "print(f'Total iterations :              {bb}')\n"
   ]
  },
  {
   "cell_type": "code",
   "execution_count": null,
   "metadata": {},
   "outputs": [],
   "source": []
  }
 ],
 "metadata": {
  "kernelspec": {
   "display_name": "Python 3 (ipykernel)",
   "language": "python",
   "name": "python3"
  },
  "language_info": {
   "codemirror_mode": {
    "name": "ipython",
    "version": 3
   },
   "file_extension": ".py",
   "mimetype": "text/x-python",
   "name": "python",
   "nbconvert_exporter": "python",
   "pygments_lexer": "ipython3",
   "version": "3.10.5"
  }
 },
 "nbformat": 4,
 "nbformat_minor": 4
}

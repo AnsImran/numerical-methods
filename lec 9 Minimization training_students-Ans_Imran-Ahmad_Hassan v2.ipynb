{
 "cells": [
  {
   "cell_type": "markdown",
   "metadata": {},
   "source": [
    "- Student 1 Name: Ans Imran\n",
    "- Student 2 Name: Ahmad Hassan"
   ]
  },
  {
   "cell_type": "code",
   "execution_count": 145,
   "metadata": {},
   "outputs": [],
   "source": [
    "%matplotlib inline\n",
    "import matplotlib as mt\n",
    "import matplotlib.pyplot as plt\n",
    "import numpy as np\n",
    "\n",
    "# Update the matplotlib configuration parameters:\n",
    "mt.rcParams.update({'font.size': 13, 'font.family': 'serif'})"
   ]
  },
  {
   "cell_type": "markdown",
   "metadata": {},
   "source": [
    "# Minimization"
   ]
  },
  {
   "cell_type": "markdown",
   "metadata": {},
   "source": [
    "Create a python Function called Func_1(x) $= (x^4-61x^3+1160x^2-7100x+6.e3)*e^{(-\\frac{x}{10.})}$"
   ]
  },
  {
   "cell_type": "code",
   "execution_count": 146,
   "metadata": {},
   "outputs": [],
   "source": [
    "def Func_1(x):\n",
    "    f = ( (x**4) - 61*(x**3) + 1160*(x**2) - 7100*x + 6e3 )*np.exp(-x/10)\n",
    "    return f\n",
    "  \n",
    "\n"
   ]
  },
  {
   "cell_type": "markdown",
   "metadata": {},
   "source": [
    "Define x as an array with lineary spaced values in the range [0,50)"
   ]
  },
  {
   "cell_type": "code",
   "execution_count": 147,
   "metadata": {},
   "outputs": [
    {
     "data": {
      "text/plain": [
       "array([ 0,  1,  2,  3,  4,  5,  6,  7,  8,  9, 10, 11, 12, 13, 14, 15, 16,\n",
       "       17, 18, 19, 20, 21, 22, 23, 24, 25, 26, 27, 28, 29, 30, 31, 32, 33,\n",
       "       34, 35, 36, 37, 38, 39, 40, 41, 42, 43, 44, 45, 46, 47, 48, 49])"
      ]
     },
     "execution_count": 147,
     "metadata": {},
     "output_type": "execute_result"
    }
   ],
   "source": [
    "x = np.arange(0,50,1)\n",
    "x"
   ]
  },
  {
   "cell_type": "markdown",
   "metadata": {},
   "source": [
    "plot Func_1(x) in the range [0,50]"
   ]
  },
  {
   "cell_type": "code",
   "execution_count": 148,
   "metadata": {
    "scrolled": true
   },
   "outputs": [
    {
     "data": {
      "text/plain": [
       "Text(0, 0.5, 'f(x)')"
      ]
     },
     "execution_count": 148,
     "metadata": {},
     "output_type": "execute_result"
    },
    {
     "data": {
      "image/png": "[encoded data removed]",
      "text/plain": [
       "<Figure size 432x288 with 1 Axes>"
      ]
     },
     "metadata": {
      "needs_background": "light"
     },
     "output_type": "display_data"
    }
   ],
   "source": [
    "plt.plot(x, Func_1(x))\n",
    "plt.xlabel('x')\n",
    "plt.ylabel('f(x)')"
   ]
  },
  {
   "cell_type": "markdown",
   "metadata": {},
   "source": [
    "Now we will try to find the minimum. Graphically determines the (approximated) miminimum:\n",
    "HOw many minima ?\n",
    "ANSWER : \n",
    "What are the approximate values ?\n",
    "ANSWSER:\n"
   ]
  },
  {
   "cell_type": "markdown",
   "metadata": {},
   "source": [
    "#### In the above range, we can graphically see 2 minima.\n",
    "\n",
    "#### The minima which appears to be a GLOBAL minima is somewhere in the domain x = (2.5, 5).\n",
    "\n",
    "#### The second minima is somewhere in the domain x = (22,28)"
   ]
  },
  {
   "cell_type": "markdown",
   "metadata": {},
   "source": [
    "Now we will try to find the minima using the 3 points bissection bracketing rule $[x_1, x_2,x_3]$, so that $F(x_2)< F(x_1)$ and $F(x_2)<F(x_3)$ so that we are sure a minimum exists between $x_1$ and $x_3$.\n",
    "\n",
    "\n",
    "Write a python function, called \" Minim_Func_1 \", that finds the minimum of function Func_1(x), starting from a triplet (x1,x2,x3) defined as above.\n",
    "\n",
    "Your code must:\n",
    "\n",
    "* take x1,x2,X3 as an arguement as well as:  $\\epsilon$, the desired accuracy\n",
    "* check first that $F(x_2)< F(x_1)$ and $F(x_2)<F(x_3)$\n",
    "* iterate to find the minimum \n",
    "* Make sure than no more than Nitermax(=1000) iterations are done.\n",
    "\n",
    "The function must return three number :\n",
    "\n",
    "The value of the found minimum, the accuracy, the number of steps.\n",
    "\n",
    "\n",
    "\n",
    "\n",
    "\n",
    "\n",
    "\n",
    "1st method : The new point to consider will be the center  of the largest segment.\n"
   ]
  },
  {
   "cell_type": "code",
   "execution_count": 149,
   "metadata": {},
   "outputs": [],
   "source": [
    "def Minim_Func_1(x1,x2,x3, eps, f):\n",
    "    '''\n",
    "    f: The function, whose minima (in a specified range), we want to find. \n",
    "    '''\n",
    "    i = 0         # it'll count the iterations of the loop\n",
    "    m = 0         # it'll act as the midpoint of the smallest of the two intervals inetrval\n",
    "    q = True\n",
    "\n",
    "    while q:\n",
    "        fx1 = f(x1)\n",
    "        fx2 = f(x2)\n",
    "        fx3 = f(x3)\n",
    "    \n",
    "        if fx2 < fx1 and fx2 < fx3:\n",
    "            a = 1                  # this statement has no function, it's just a space filler.\n",
    "        else:\n",
    "            print('fx2 < fx1  AND  fx2 < fx3 is FALSE')\n",
    "            q = False\n",
    "    \n",
    "        L12 = x2 - x1              # calculating the size of the left interval\n",
    "        L23 = x3 - x2              # calculating the size of the right interval\n",
    "    \n",
    "        if L12 >= L23:             # ' >= ' is necessary, because the two intervals could have the exactly the same size\n",
    "            m  = (x1 + x2)/2       # the midpoint of the choosen interval\n",
    "            fx = f(m)\n",
    "            if fx < fx1 and fx > fx2:    #moving the left edge\n",
    "                x1 = m\n",
    "            elif fx < fx1 and fx < fx2:\n",
    "                if fx1 < fx3:            # if ' fx1 < fx3 ' then the new triplet is (x1,m,x2). replaced x3 by x2\n",
    "                    x1 = x1\n",
    "                    x3 = x2\n",
    "                    x2 = m\n",
    "                elif fx3 < fx1:          # if ' fx3 < fx1 ' then the new triplet is (m,x2,x3). replaced x1 by m\n",
    "                    x3 = x3\n",
    "                    x1 = m\n",
    "                    x2 = x2\n",
    "\n",
    "        elif L23 > L12 :\n",
    "            m = (x2 + x3)/2\n",
    "            fx = f(m)\n",
    "            if fx > fx2 and fx < fx3:    # moving right edge\n",
    "                x3 = m\n",
    "            elif fx < fx2 and fx < fx3:\n",
    "                if fx3 < fx1:            # if ' fx3 < fx1 ' then the new triplet is (x2,m,x3). replaced x1 by x2\n",
    "                    x1 = x2\n",
    "                    x2 = m\n",
    "                    x3 = x3\n",
    "                elif fx1 < fx3:          # if ' fx1 < fx3 ' then the new triplet is (x1,x2,m). replaced x3 by m\n",
    "                    x3 = m\n",
    "                    x1 = x1\n",
    "                    x2 = x2\n",
    "        \n",
    "        accuracy = abs(x3 - x1) \n",
    "        if accuracy <= eps or i == 1000:\n",
    "            q = False\n",
    "        \n",
    "        i = i+1\n",
    "        \n",
    "    return [f(x2), accuracy, i+1, x2]\n",
    "        "
   ]
  },
  {
   "cell_type": "code",
   "execution_count": 150,
   "metadata": {},
   "outputs": [
    {
     "data": {
      "text/plain": [
       "[-5039.139504720325, 5.960464477539062e-07, 43, 3.774707615375519]"
      ]
     },
     "execution_count": 150,
     "metadata": {},
     "output_type": "execute_result"
    }
   ],
   "source": [
    "Minim_Func_1(0, 5e0, 10e0, 1e-6, Func_1)"
   ]
  },
  {
   "cell_type": "markdown",
   "metadata": {},
   "source": [
    "Plot the number of iterations needed to get an accuracy , abs(x3-x1) , of 0.01, 0.001, 1.e-3,1.e-4, 1.e-5,1.e-6)\n",
    "\n"
   ]
  },
  {
   "cell_type": "code",
   "execution_count": 151,
   "metadata": {},
   "outputs": [
    {
     "data": {
      "text/plain": [
       "[<matplotlib.lines.Line2D at 0x20788680850>]"
      ]
     },
     "execution_count": 151,
     "metadata": {},
     "output_type": "execute_result"
    },
    {
     "data": {
      "image/png": "[encoded data removed]",
      "text/plain": [
       "<Figure size 648x360 with 1 Axes>"
      ]
     },
     "metadata": {
      "needs_background": "light"
     },
     "output_type": "display_data"
    }
   ],
   "source": [
    "Accuracy_list = [0.01, 0.001, 1e-3, 1e-4, 1e-5, 1e-6]\n",
    "iterations_list = []\n",
    "\n",
    "for i in Accuracy_list:\n",
    "    mini, accur, iterations, a = Minim_Func_1(0,5e0,10e0, i, Func_1)\n",
    "    iterations_list.append(iterations)\n",
    "\n",
    "plt.figure(figsize=(9,5))\n",
    "plt.xlabel('No. of iterations')\n",
    "plt.ylabel('Accuracy')\n",
    "plt.plot(iterations_list, Accuracy_list)"
   ]
  },
  {
   "cell_type": "markdown",
   "metadata": {},
   "source": [
    "# High accuracy means a small value of abs(x3-x1).\n",
    "## so, the accuracy is indeed increasing in the above graph.\n",
    "# High Accuracy corresponds to low abs(x3-x1)"
   ]
  },
  {
   "cell_type": "markdown",
   "metadata": {},
   "source": [
    "Plot the number and accuracy of the solution  as a function of the number of iterations. You can use the python matplotlib funcion : plt.semilogy"
   ]
  },
  {
   "cell_type": "code",
   "execution_count": 152,
   "metadata": {
    "scrolled": false
   },
   "outputs": [
    {
     "data": {
      "text/plain": [
       "[<matplotlib.lines.Line2D at 0x207886ca8f0>]"
      ]
     },
     "execution_count": 152,
     "metadata": {},
     "output_type": "execute_result"
    },
    {
     "data": {
      "image/png": "[encoded data removed]",
      "text/plain": [
       "<Figure size 648x360 with 1 Axes>"
      ]
     },
     "metadata": {
      "needs_background": "light"
     },
     "output_type": "display_data"
    }
   ],
   "source": [
    "\n",
    "plt.figure(figsize=(9,5))\n",
    "plt.xlabel('No. of iterations')\n",
    "plt.ylabel('log( Accuracy )')\n",
    "plt.semilogy(iterations_list, Accuracy_list)"
   ]
  },
  {
   "cell_type": "markdown",
   "metadata": {},
   "source": [
    "\n",
    "\n",
    "## A superlinear method.\n",
    "\n",
    "We use [x1,x2,x3] as usual to bracket the minimum, but now point x4 will be the chose as the minimum of the parabola that passes through the 3 points [x1,x2,x3] with values [f(x1),f(x2),fx(3)] \n",
    "Note :The  the minimum of the parabola that passes trhough the 3 points f(a),f(b),fx(c) is located at abscissa X such that =\n",
    "\n",
    "$\n",
    "X=b-0.5\\frac{(b-a)^2(f(b)-f(c))-(b-c)^2(f(b)-f(a))}{(b-a)(f(b)-f(c))-(b-c)(f(b)-f(a))}\n",
    "$\n",
    "\n",
    "Build a minimisation function called : Minim_Parab_Func_1 that search for the minimum using parabolic descent.\n",
    "\n",
    "Note 1: for the method to be more efficient than bissection you must make sure at each time step that the new interval has a width smaller than 0.5 of the previoux step.\n",
    "So a good way to do that is to compute X4 using the formula above (X=) that is the best guess for the next minimum and take the smallest segment that brackets the minimum wihin points [x1,x2,x3,x4,0.5*(x1+x3)].\n",
    "\n",
    "\n",
    "\n",
    "For this we can use the two following methods :\n",
    "* np.sort(S), that sort in ascending order a list of values contained in a list S\n",
    "* V.argmin() that returns the index of the smallest element in a array (numpy array) V.\n",
    "* to transform a list in a numpy array you can use : np.array(L) where L is a list.\n",
    "Example : L=[1,2,3] is a list and np.array(L) returns an array with the same elements as in L\n",
    "\n",
    "Note 2: Make sure that your interval is ALWAYS equilibrated, I mean that x2-x1 is always comparable to x3-x2 (not necessarily equal), to avoid the *bad* situation where one of the interval is much smaller than the other one.\n",
    "\n",
    "Note 3 : To check that your minimization process is performing well,  I suggest that at each step you print x1,x2,x3 to check that everything is occuring properly.\n"
   ]
  },
  {
   "cell_type": "code",
   "execution_count": 153,
   "metadata": {},
   "outputs": [],
   "source": [
    "def parabolic_x(x1, x2, x3, f):\n",
    "    '''\n",
    "    This function returns the minima of a parabola, that passes through the points f(x1), f(x2) & f(x3).\n",
    "    '''\n",
    "    \n",
    "    fx1 = f(x1)\n",
    "    fx2 = f(x2)\n",
    "    fx3 = f(x3)\n",
    "    \n",
    "    o = x2 - 0.5*( (( (x2-x1)**2 ) * (fx2 - fx3))  -  (( (x2-x3)**2 ) * ( fx2 - fx1 ))) / ( ((x2-x1) * (fx2 - fx3))  -  ((x2-x3) * ( fx2 - fx1 )))\n",
    "    return o\n",
    "\n",
    "\n",
    "\n",
    "def Minim_Parab_Func_1(x1, x2, x3, eps, f):\n",
    "    '''\n",
    "    This function returns the minima (in a specified range), of a given function 'f', using parabolic interpolation.\n",
    "    '''\n",
    "    i = 0\n",
    "    q = True\n",
    "    while q:\n",
    "        \n",
    "        x4  = parabolic_x(x1, x2, x3, f)\n",
    "        \n",
    "        x5  = (x1 + x3)/2    # using x5 reduces the no. of iterations\n",
    "        if x5 in [x1,x2,x3]: # if the value of x5 is already present in the list [x1,x2,x3], then it will create problems\n",
    "            x5 = x5/2        # so, that's why we are changing it's value\n",
    "        \n",
    "        l  = np.array([x1, x2, x3, x4, x5])\n",
    "        l  = np.sort(l)                       # sorting the list [x1, x2, x3, x4, x5]\n",
    "        \n",
    "            \n",
    "        fl = f(l)             # a list which contains the f(x1), f(x2), and so on,.. It'll be useful for the next step\n",
    "        n = np.argmin(fl)     # finding the index of x_value, at which we have the minimum value\n",
    "            \n",
    "            \n",
    "        if n == 0 or n == 1: #if the the minimum value is found at x1 or x2, then we discard x4,x5 AND (x1,x2,x3) is new triplet\n",
    "            x1 = l[0]\n",
    "            x2 = l[1]\n",
    "            x3 = l[2]\n",
    "            \n",
    "        elif n == 2: #if the the minimum value is found at x3, then we discard x1,x5 AND (x2,x3,x4) is new triplet\n",
    "            x1 = l[1]\n",
    "            x2 = l[2]\n",
    "            x3 = l[3]\n",
    "            \n",
    "        elif n == 3 or n == 4: #if the the minimum value is found at x3 or x4, then we discard x1,x2 AND (x3,x4,x5) is new triplet\n",
    "            x1 = l[2]\n",
    "            x2 = l[3]\n",
    "            x3 = l[4]\n",
    "            \n",
    "            \n",
    "# if any of the x1,x2,x3 are equal to each other, then the following line, changes their values a li'l bit\n",
    "# so, that we dont get any 'Nan' or 'infinity' in the function, which calculates the minima of the parabola\n",
    "        if x1 == x2 or x1 == x3:\n",
    "            x1 = x1 - 0.01\n",
    "        elif x3 == x2:\n",
    "            x3 = x3 + 0.01\n",
    "                    \n",
    "        accuracy = abs(x3 - x1) \n",
    "        if accuracy <= eps or i == 1000:\n",
    "            q = False\n",
    "            \n",
    "        i = i+1         \n",
    "    return [np.min(fl), accuracy, i+1, x1, x2, x3]\n",
    "\n"
   ]
  },
  {
   "cell_type": "markdown",
   "metadata": {},
   "source": [
    "Test the convergence speed of the parabolic descent rule, and display  a same graph as before. Show that the parabolic method converges much more rapidly than other method"
   ]
  },
  {
   "cell_type": "code",
   "execution_count": 154,
   "metadata": {
    "scrolled": true
   },
   "outputs": [
    {
     "data": {
      "text/plain": [
       "[-5039.1393755412655,\n",
       " 0.024277649217366193,\n",
       " 6,\n",
       " 3.758811361679383,\n",
       " 3.775272105077708,\n",
       " 3.783089010896749]"
      ]
     },
     "execution_count": 154,
     "metadata": {},
     "output_type": "execute_result"
    }
   ],
   "source": [
    "Minim_Parab_Func_1(0,5,10, 1e-1, Func_1)"
   ]
  },
  {
   "cell_type": "code",
   "execution_count": 155,
   "metadata": {},
   "outputs": [],
   "source": [
    "# x_value the value of 'x' at which numerical minima is found.\n",
    "\n",
    "numerical_minima, eps1, Np0, x1, x2, x3 = Minim_Parab_Func_1(0,5,10, 1e-1, Func_1)\n",
    "numerical_minima, eps2, Np1, x1, x2, x3 = Minim_Parab_Func_1(0,5,10, 1e-2, Func_1)\n",
    "numerical_minima, eps3, Np2, x1, x2, x3 = Minim_Parab_Func_1(0,5,10, 1e-3, Func_1)\n",
    "numerical_minima, eps4, Np3, x1, x2, x3 = Minim_Parab_Func_1(0,5,10, 1e-4, Func_1)\n",
    "numerical_minima, eps5, Np4, x1, x2, x3 = Minim_Parab_Func_1(0,5,10, 1e-5, Func_1)\n",
    "numerical_minima, eps6, Np5, x1, x2, x3 = Minim_Parab_Func_1(0,5,10, 1e-6, Func_1)\n",
    "\n",
    "Nplist  = [Np0,Np1,Np2,Np3,Np4,Np5]\n",
    "\n",
    "Epslist = [eps1, eps2, eps3, eps4, eps5, eps6]"
   ]
  },
  {
   "cell_type": "markdown",
   "metadata": {},
   "source": [
    "PLot the accuracy of the result, as a function of the number of iterations for the bissection and for the superlinear method."
   ]
  },
  {
   "cell_type": "code",
   "execution_count": 156,
   "metadata": {},
   "outputs": [
    {
     "data": {
      "text/plain": [
       "Text(0, 0.5, 'Accuracy')"
      ]
     },
     "execution_count": 156,
     "metadata": {},
     "output_type": "execute_result"
    },
    {
     "data": {
      "image/png": "[encoded data removed]",
      "text/plain": [
       "<Figure size 720x504 with 1 Axes>"
      ]
     },
     "metadata": {
      "needs_background": "light"
     },
     "output_type": "display_data"
    }
   ],
   "source": [
    "\n",
    "plt.figure(figsize=(10,7))\n",
    "plt.plot(Nplist, Epslist, 'b', label=r\"Parabolic Bisection Method\")\n",
    "plt.plot(iterations_list, Accuracy_list, 'r', label=r\"Simple Bisection Method\")\n",
    "plt.legend(loc = 2)\n",
    "plt.xlabel('No. of iterations')\n",
    "plt.ylabel('Accuracy')\n"
   ]
  },
  {
   "cell_type": "markdown",
   "metadata": {},
   "source": [
    "# We see that the Parabolic Bisection Method reaches the same level of accuracy in SMALLER no. of iterations"
   ]
  },
  {
   "cell_type": "markdown",
   "metadata": {},
   "source": [
    "# finding the minimum of an arbitrary function : passing a function name as an argument\n"
   ]
  },
  {
   "cell_type": "markdown",
   "metadata": {},
   "source": [
    "Now we wish our previous minimization function to be able to minimize any function, and not only the function called \"Func_1\". So we need to pass the function name as an argument. This is very simple in Python: we can just use an argument called (for example) $func$ and when we call the minimization function,  just pass the name of this funcion (without ' or \") in the variable func.\n",
    "* Define a python function called Func_2(x) that compute any function of x (for example $f(x)=x^6-x^3$, or anything else you wish)\n",
    "* Define a python function called 'call_func(f)', that will return f(2) by calling : call_func(Func_2) \n",
    "\n",
    "Shows that it works by typing : call_func(Func_2) "
   ]
  },
  {
   "cell_type": "code",
   "execution_count": 157,
   "metadata": {},
   "outputs": [
    {
     "data": {
      "text/plain": [
       "56"
      ]
     },
     "execution_count": 157,
     "metadata": {},
     "output_type": "execute_result"
    }
   ],
   "source": [
    "def Func_2(x):\n",
    "    o = x**6 - x**3\n",
    "    return o\n",
    "\n",
    "def call_func(q, f):\n",
    "    o = f(q)\n",
    "    return o\n",
    "\n",
    "call_func(2, Func_2)"
   ]
  },
  {
   "cell_type": "markdown",
   "metadata": {},
   "source": [
    "Finding a minimum :\n",
    "    plot Func_2 within a range of values of your choice bracketing is a minimum (between 0 and 1 should be enough)"
   ]
  },
  {
   "cell_type": "code",
   "execution_count": 158,
   "metadata": {
    "scrolled": true
   },
   "outputs": [
    {
     "data": {
      "text/plain": [
       "[<matplotlib.lines.Line2D at 0x20789764490>]"
      ]
     },
     "execution_count": 158,
     "metadata": {},
     "output_type": "execute_result"
    },
    {
     "data": {
      "image/png": "[encoded data removed]",
      "text/plain": [
       "<Figure size 432x288 with 1 Axes>"
      ]
     },
     "metadata": {
      "needs_background": "light"
     },
     "output_type": "display_data"
    }
   ],
   "source": [
    "x = np.linspace(0,1,50)\n",
    "\n",
    "plt.plot(x, Func_2(x))\n",
    "\n"
   ]
  },
  {
   "cell_type": "markdown",
   "metadata": {},
   "source": [
    "Build a minimization function of your choice that will accept [x1,x2,x3,Func_2] as an argument and that will find the minimum of Func_2 within [x1,x3]. Try to reuse what you have already coded above"
   ]
  },
  {
   "cell_type": "code",
   "execution_count": 159,
   "metadata": {
    "scrolled": true
   },
   "outputs": [
    {
     "name": "stdout",
     "output_type": "stream",
     "text": [
      "The value of numerically computed minimum is:       -0.25  \n",
      "The accuracy abs(x3-x1) is:                      1.3096995155059687e-08  \n",
      "No. of iterations were:                          11  \n",
      "The value of x at which we found the minima is:  0.793700525924133  \n"
     ]
    }
   ],
   "source": [
    "# The function ' Minim_Parab_Func_1 ' as built earlier is already general enough to complete this task\n",
    "\n",
    "a = 0\n",
    "b = 0.6     # exactly equally spaced INITIAL intervals always give an answer that is a li'l bit off from the true answer,...\n",
    "c = 1       # so, we have to use the INITIAL intervals that are of SLIGHTLY different lengths\n",
    "eps = 1e-6\n",
    "\n",
    "nmin, acc, it, x1, xval, x3 = Minim_Parab_Func_1(a, b, c, eps, Func_2)\n",
    "\n",
    "print(f'The value of numerically computed minimum is:       {nmin}  ')\n",
    "print(f'The accuracy abs(x3-x1) is:                      {acc}  ')\n",
    "print(f'No. of iterations were:                          {it}  ')\n",
    "print(f'The value of x at which we found the minima is:  {xval}  ')"
   ]
  },
  {
   "cell_type": "markdown",
   "metadata": {},
   "source": [
    "# Fitting a model to data: Determining the elimination time of a medicine in the body\n"
   ]
  },
  {
   "cell_type": "markdown",
   "metadata": {},
   "source": [
    "We try to determine how long it takes for a medecine to be eliminated from a human body (metabolisation or eliminationin urines). The medicine is injected in a subject, and measurements of the medicine concentration are done regularly during several days. The data are the following. t is the date of all measurements (in minutes, t=0 is the moment of the injection).\n"
   ]
  },
  {
   "cell_type": "code",
   "execution_count": 160,
   "metadata": {},
   "outputs": [],
   "source": [
    "t=[0, 1.27202491e+02, 3.14663948e+02, 4.47499292e+02,\n",
    "       5.77904807e+02, 7.36644162e+02, 8.77944621e+02, 1.03429168e+03,\n",
    "       1.18319505e+03, 1.33041427e+03, 1.48234442e+03, 1.64547130e+03,\n",
    "       1.77172013e+03, 1.92313885e+03, 2.07086937e+03, 2.22777241e+03,\n",
    "       2.37867541e+03, 2.50116573e+03, 2.65833952e+03, 2.82126398e+03,\n",
    "       2.95786912e+03, 3.10040140e+03, 3.25340147e+03, 3.41529223e+03,\n",
    "       3.53234880e+03, 3.68589222e+03, 3.85383279e+03, 3.99062701e+03,\n",
    "       4.11829287e+03, 4.26010451e+03, 4.42751803e+03, 4.57595613e+03,\n",
    "       4.73240964e+03, 4.87564297e+03, 5.02498239e+03, 5.16407107e+03,\n",
    "       5.31320580e+03, 5.45634412e+03, 5.61789192e+03, 5.75401807e+03]\n",
    "t = np.array(t)\n"
   ]
  },
  {
   "cell_type": "markdown",
   "metadata": {},
   "source": [
    "The corresponding measured concentration are the following (in arbirary units)"
   ]
  },
  {
   "cell_type": "code",
   "execution_count": 161,
   "metadata": {},
   "outputs": [],
   "source": [
    "C=[100.,  84.19752483,  79.43669653,  77.49545165,\n",
    "        64.54338469,  45.67223012,  34.75582205,  36.55283011,\n",
    "        41.88282264,  28.1426116 ,  21.06445026,  19.8784981 ,\n",
    "        14.20655088,  13.00527066,  15.21292955,   9.48415543,\n",
    "         7.86202904,   9.48789641,  12.26344071,   6.86855964,\n",
    "        14.8847701 ,   0.        ,   9.94703693,   4.97773134,\n",
    "         8.15232925,   4.48353225,   8.75568603,   1.12007805,\n",
    "         8.0847839 ,   0.        ,   1.19374786,   0.        ,\n",
    "        11.38141968,   0.        ,   5.42182953,   0.        ,\n",
    "         1.69707766,  15.76470042,   3.25146039,   1.46703363]\n",
    "C = np.array(C)"
   ]
  },
  {
   "cell_type": "markdown",
   "metadata": {},
   "source": [
    "Plot C(t) with xlabel \"minutes\" and ylabel \"concentration\""
   ]
  },
  {
   "cell_type": "code",
   "execution_count": 162,
   "metadata": {},
   "outputs": [
    {
     "data": {
      "text/plain": [
       "Text(0, 0.5, 'concentration (arbitrary units)')"
      ]
     },
     "execution_count": 162,
     "metadata": {},
     "output_type": "execute_result"
    },
    {
     "data": {
      "image/png": "[encoded data removed]",
      "text/plain": [
       "<Figure size 720x432 with 1 Axes>"
      ]
     },
     "metadata": {
      "needs_background": "light"
     },
     "output_type": "display_data"
    }
   ],
   "source": [
    "plt.figure(figsize=(10,6))\n",
    "plt.plot(t,C)\n",
    "plt.xlabel('time (minutes)')\n",
    "plt.ylabel('concentration (arbitrary units)')"
   ]
  },
  {
   "cell_type": "markdown",
   "metadata": {},
   "source": [
    "We assume now that C(t) can be given the form $C(t,\\lambda)=100e^{-t/\\lambda}$. We try to determine the value of $\\lambda$ that best fits the function. In order to do this we will compare different functions (will different values of $\\lambda$ with the observation). We define a function called $\\chi(\\lambda)$ that is a measure of the distance of a model to data. $\\chi(\\lambda)=\\sum_{i=1}^{N} (C_{obs}(t_i)-C_{model}(t_i,\\lambda))^2$. The best value of $\\lambda$ is the one that minimizes  $\\chi(\\lambda)$.\n",
    "\n",
    "* Write a function called $XHI(\\lambda)$ that returns $\\chi(\\lambda)$\n"
   ]
  },
  {
   "cell_type": "code",
   "execution_count": 163,
   "metadata": {},
   "outputs": [],
   "source": [
    "def XHI(lamda):\n",
    "    ct = 100*np.exp(-t/lamda)\n",
    "    o = np.sum( (C - ct)**2 )\n",
    "    return o"
   ]
  },
  {
   "cell_type": "code",
   "execution_count": 164,
   "metadata": {
    "scrolled": false
   },
   "outputs": [
    {
     "data": {
      "text/plain": [
       "<matplotlib.collections.PathCollection at 0x2078981fbe0>"
      ]
     },
     "execution_count": 164,
     "metadata": {},
     "output_type": "execute_result"
    },
    {
     "data": {
      "image/png": "[encoded data removed]",
      "text/plain": [
       "<Figure size 720x432 with 1 Axes>"
      ]
     },
     "metadata": {
      "needs_background": "light"
     },
     "output_type": "display_data"
    }
   ],
   "source": [
    "# plotting XHI vs different values of the lamda\n",
    "\n",
    "m = np.linspace(1,2000,2000)\n",
    "a = []\n",
    "for i in range(2000):      # calculating the error for different input values of lamda\n",
    "    a.append( XHI(m[i]) )\n",
    "\n",
    "\n",
    "plt.figure(figsize=(10,6))\n",
    "plt.xlabel('lamda (1/seconds)')\n",
    "plt.ylabel('value of error')\n",
    "plt.scatter(m,a)"
   ]
  },
  {
   "cell_type": "markdown",
   "metadata": {},
   "source": [
    "### From the above graph we see that the minima of XHI is somewhere between 1000 and 1200"
   ]
  },
  {
   "cell_type": "markdown",
   "metadata": {},
   "source": [
    "Using the functions you have defined above, find $\\lambda$"
   ]
  },
  {
   "cell_type": "markdown",
   "metadata": {},
   "source": [
    "So the first thing to do is do define a function, XHI(lambda) that returns 𝜒(𝜆)"
   ]
  },
  {
   "cell_type": "markdown",
   "metadata": {},
   "source": [
    "Now minimize XHI(lambda) with a method of your choice and find $\\lambda$ . What is the value of XHI at the minimum ? "
   ]
  },
  {
   "cell_type": "code",
   "execution_count": 165,
   "metadata": {
    "scrolled": true
   },
   "outputs": [
    {
     "name": "stdout",
     "output_type": "stream",
     "text": [
      "The value of numerically computed minimum is:       1090.0444435882953  \n",
      "The accuracy abs(x3-x1) is:                      9.5367431640625e-05  \n",
      "No. of iterations were:                          38  \n",
      "The value of lamda at which we found the minima is:  1084.4189167022705  \n"
     ]
    }
   ],
   "source": [
    "# The function ' Minim_Func_1 ' as built earlier is already general enough to complete this task\n",
    "\n",
    "a = 1000\n",
    "b = 1100\n",
    "c = 1200\n",
    "eps = 1e-4\n",
    "\n",
    "nmin, acc, it, xval = Minim_Func_1(a, b, c, eps, XHI)\n",
    "\n",
    "print(f'The value of numerically computed minimum is:       {nmin}  ')\n",
    "print(f'The accuracy abs(x3-x1) is:                      {acc}  ')\n",
    "print(f'No. of iterations were:                          {it}  ')\n",
    "print(f'The value of lamda at which we found the minima is:  {xval}  ')"
   ]
  },
  {
   "cell_type": "code",
   "execution_count": 166,
   "metadata": {},
   "outputs": [
    {
     "data": {
      "text/plain": [
       "Text(0, 0.5, 'concentration (arbitrary units)')"
      ]
     },
     "execution_count": 166,
     "metadata": {},
     "output_type": "execute_result"
    },
    {
     "data": {
      "image/png": "[encoded data removed]",
      "text/plain": [
       "<Figure size 720x432 with 1 Axes>"
      ]
     },
     "metadata": {
      "needs_background": "light"
     },
     "output_type": "display_data"
    }
   ],
   "source": [
    "# when lamda = 1090.0444435882953 then our function looks like this:\n",
    "\n",
    "lamda = 1084.4189167022705 \n",
    "plt.figure(figsize=(10,6))\n",
    "plt.plot(t, 100*np.exp(-t/lamda), 'r')\n",
    "plt.scatter(t,C)\n",
    "plt.title('SIMPLE BISECTION FIT for the elimination time of a medicine in the body')\n",
    "plt.xlabel('time (minutes)')\n",
    "plt.ylabel('concentration (arbitrary units)')"
   ]
  },
  {
   "cell_type": "markdown",
   "metadata": {},
   "source": [
    "# 2 dimensional minimization"
   ]
  },
  {
   "cell_type": "markdown",
   "metadata": {},
   "source": [
    "We want to minimize a function f(x,y) and we know that the minimum $(xm,ym)$ is such that $x1<xm<x2$ and $y1<ym<y2$. For example let's minimze the two variable function : $f(x,y)= ((x+y)/(y^2+1)+3xy-1)^2$. First define a function Func_3(x,y) that returns ((x+y)/(y^2+1)+3xy-1)^2.  There is a minimum betwenn -5 and +5 for x and y.\n"
   ]
  },
  {
   "cell_type": "code",
   "execution_count": 167,
   "metadata": {},
   "outputs": [],
   "source": [
    "def Func_3(sx,sy):\n",
    "    a = sx + sy\n",
    "    b = (sy**2) + 3*sx*sy\n",
    "    o = (a/b)**2\n",
    "    return o"
   ]
  },
  {
   "cell_type": "markdown",
   "metadata": {},
   "source": [
    "If you want to visualise it  (not mandatory) you can use this little procedure that uses triangulation (note : I use a random sampling of X and Y, so the function is not super smooth, but this is an artifact.\n",
    "\n",
    "def plot2Dfunc(func,x1,x2,y1,y2):\n",
    "    # input: \n",
    "    # func : function name\n",
    "    # x1,x2 : x range\n",
    "    # y1,y2 : y range\n",
    "    #\n",
    "    \n",
    "    Npoints=1000 # number of points to sample\n",
    "    \n",
    "\n",
    "   \n",
    "    import matplotlib.pyplot as plt\n",
    "    import numpy as np\n",
    "\n",
    "\n",
    "    x=np.linspace(x1,x2,Npoints)\n",
    "    y=np.linspace(y1,y2,Npoints)\n",
    "    \n",
    "    z=np.zeros([Npoints,Npoints])\n",
    "\n",
    "    for i in range(Npoints):\n",
    "        # Z[y,x]\n",
    "        z[i,:]=func(x,y[i])\n",
    "        \n",
    "    \n",
    "    plt.contour(x,y,z,100)\n",
    "    plt.show()\n",
    "\n",
    "    from mpl_toolkits.mplot3d import Axes3D\n",
    "    import matplotlib.pyplot as plt\n",
    "    import numpy as np\n",
    "\n",
    "\n",
    "    x=np.random.uniform(x1,x2,Npoints)\n",
    "    y=np.random.uniform(y1,y2,Npoints)\n",
    "    \n",
    "    z=func(x,y)\n",
    "    \n",
    "    \n",
    "    fig = plt.figure()\n",
    "    ax = fig.gca(projection='3d')\n",
    "    \n",
    "    ax.plot_trisurf(x, y, z, linewidth=0.2, antialiased=True)\n",
    "    plt.xlabel('X')\n",
    "    plt.ylabel('Y')\n",
    "    plt.show()\n",
    "\n",
    "To use this function, copy and paste the code above in a 'code cell\" and type 'plot2Dfunc(Func,-5,5,-5,5) 'for example\n",
    "\n"
   ]
  },
  {
   "cell_type": "markdown",
   "metadata": {},
   "source": [
    "Now code a function that find the minimum of Func_3(x,y) using the following strategy.\n",
    "Knowing that x1<xm<x2 and y1<ym<y2 : \n",
    "* start from a point (x0,y0) inside the interval and minimize along the x direction only (i.e. keeping y0=cst) between x1 and x2. Find a new point (x1,y0) closer to the minimum.\n",
    "* now keep x1 constant and minimize along the y direction only (between y1 and y2). Find a new point (x1,y1) closer to the minimum.\n",
    "* Redo the two previous steps up to a desired accuracy.\n",
    "* Note : Re-use any of the functions that you have coded previously.\n",
    "Find the minimum. How many steps did you do ?\n"
   ]
  },
  {
   "cell_type": "code",
   "execution_count": 169,
   "metadata": {},
   "outputs": [
    {
     "name": "stdout",
     "output_type": "stream",
     "text": [
      "The value of numerically computed minimum (in x direction) is:    4.931845059847468e-12  \n",
      "The accuracy abs(x3-x1) is:                                       7.703502697270492e-06  \n",
      "The value of x at which we found the minima is:                   -0.10000045256234345  \n",
      "Total no. of iteration in x were:                                 20\n",
      "\n",
      "\n",
      "\n",
      "The value of numerically computed minimum (in y direction) is:    4.931845059847468e-12  \n",
      "The accuracy abs(y3-y1) is:                                       1.922094205894509e-06  \n",
      "The value of y at which we found the minima is:                   0.10000040814643572  \n",
      "Total no. of iteration in y were:                                 14\n",
      "\n",
      "\n",
      "\n",
      "Total no. of iteration in x and y were:          34\n",
      "Total no. of iteration of the main loop were:    2\n"
     ]
    }
   ],
   "source": [
    "x1 = -5\n",
    "x2 = +5.1  # we did not take it to be, exactly 5, bcoz then the average of x1 and x3 would ZERO i.e x5 = 0, and that would\n",
    "           # have resulted in division by zero error in Func_3 and that would have introduced infinities in our calculations\n",
    "\n",
    "y1 = -5; y2 = +5.1; xm = 0.1; ym = 0.1\n",
    "\n",
    "# different variables for recording the number of iterations iterations\n",
    "itx        = 0\n",
    "itx_Total  = 0\n",
    "ity        = 0\n",
    "ity_Total  = 0\n",
    "\n",
    "global_eps = 1e-5\n",
    "\n",
    "local_eps  = 1\n",
    "\n",
    "i = 0\n",
    "\n",
    "# this the main loop, it'll use 'Minim_Parab_Func_1' for computations\n",
    "while local_eps > global_eps:\n",
    "    \n",
    "    def Func_3x(sx): # keeping y constant i.e. keeping it to be ym\n",
    "        o = ( (sx + ym) / ( ((ym**2) + 1 ) + 3*sx*ym - 1) )**2\n",
    "        return o\n",
    "    \n",
    "    nmin, acc, itx, x1, xm, x3 = Minim_Parab_Func_1(x1, xm, x2, eps, Func_3x)\n",
    "    itx_Total = itx_Total + itx\n",
    "\n",
    "\n",
    "    def Func_3y(sy): # keeping x constant i.e. keeping it to be xm\n",
    "        o = ( (xm + sy) / ( ((sy**2) + 1 ) + 3*xm*sy - 1) )**2\n",
    "        return o\n",
    "\n",
    "    nminy, accy, ity, y1, ym, y3 = Minim_Parab_Func_1(y1, ym, y2, eps, Func_3y)\n",
    "    ity_Total = ity_Total + ity\n",
    "    \n",
    "    \n",
    "    local_eps = abs( np.sqrt( (y3**2) + (x3**2) ) - np.sqrt( (y1**2) + (x1**2) ) )  #disctance between points (x3,y3) & (x1,y1)\n",
    "                                                                                    #I think this'll be a better estimate of error\n",
    "    i = i + 1\n",
    "\n",
    "# printing the data\n",
    "print(f'The value of numerically computed minimum (in x direction) is:    {nmin}  ')\n",
    "print(f'The accuracy abs(x3-x1) is:                                       {acc}  ')\n",
    "print(f'The value of x at which we found the minima is:                   {xm}  ')\n",
    "print(f'Total no. of iteration in x were:                                 {itx_Total}')\n",
    "\n",
    "print('\\n\\n')\n",
    "\n",
    "print(f'The value of numerically computed minimum (in y direction) is:    {nminy}  ')\n",
    "print(f'The accuracy abs(y3-y1) is:                                       {accy}  ')\n",
    "print(f'The value of y at which we found the minima is:                   {ym}  ')\n",
    "print(f'Total no. of iteration in y were:                                 {ity_Total}')\n",
    "\n",
    "print('\\n\\n')\n",
    "\n",
    "print(f'Total no. of iteration in x and y were:          {itx_Total + ity_Total}')\n",
    "print(f'Total no. of iteration of the main loop were:    {i}')\n",
    "\n"
   ]
  },
  {
   "cell_type": "code",
   "execution_count": null,
   "metadata": {},
   "outputs": [],
   "source": []
  }
 ],
 "metadata": {
  "kernelspec": {
   "display_name": "Python 3 (ipykernel)",
   "language": "python",
   "name": "python3"
  },
  "language_info": {
   "codemirror_mode": {
    "name": "ipython",
    "version": 3
   },
   "file_extension": ".py",
   "mimetype": "text/x-python",
   "name": "python",
   "nbconvert_exporter": "python",
   "pygments_lexer": "ipython3",
   "version": "3.10.5"
  }
 },
 "nbformat": 4,
 "nbformat_minor": 2
}
